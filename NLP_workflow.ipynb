{
 "cells": [
  {
   "cell_type": "markdown",
   "metadata": {},
   "source": [
    "# Preprocessing"
   ]
  },
  {
   "cell_type": "code",
   "execution_count": 1,
   "metadata": {},
   "outputs": [],
   "source": [
    "import pandas as pd\n",
    "import xml.etree.ElementTree as ET\n",
    "import os\n",
    "import text_processing"
   ]
  },
  {
   "cell_type": "code",
   "execution_count": 2,
   "metadata": {},
   "outputs": [
    {
     "data": {
      "text/html": [
       "<div>\n",
       "<style scoped>\n",
       "    .dataframe tbody tr th:only-of-type {\n",
       "        vertical-align: middle;\n",
       "    }\n",
       "\n",
       "    .dataframe tbody tr th {\n",
       "        vertical-align: top;\n",
       "    }\n",
       "\n",
       "    .dataframe thead th {\n",
       "        text-align: right;\n",
       "    }\n",
       "</style>\n",
       "<table border=\"1\" class=\"dataframe\">\n",
       "  <thead>\n",
       "    <tr style=\"text-align: right;\">\n",
       "      <th></th>\n",
       "      <th>name</th>\n",
       "      <th>labels</th>\n",
       "    </tr>\n",
       "  </thead>\n",
       "  <tbody>\n",
       "    <tr>\n",
       "      <th>0</th>\n",
       "      <td>21996A0127(02)</td>\n",
       "      <td>[5254, 1558, 2718, 336, 3468, 1871]</td>\n",
       "    </tr>\n",
       "    <tr>\n",
       "      <th>1</th>\n",
       "      <td>21996A0520(01)</td>\n",
       "      <td>[753, 5404, 3454, 888, 614, 4631]</td>\n",
       "    </tr>\n",
       "    <tr>\n",
       "      <th>2</th>\n",
       "      <td>21996A0706(01)</td>\n",
       "      <td>[11, 1804, 5765, 3461, 2602]</td>\n",
       "    </tr>\n",
       "    <tr>\n",
       "      <th>3</th>\n",
       "      <td>21996A0706(02)</td>\n",
       "      <td>[11, 1633, 5765, 3461, 2602]</td>\n",
       "    </tr>\n",
       "    <tr>\n",
       "      <th>4</th>\n",
       "      <td>21996A0716(01)</td>\n",
       "      <td>[216, 4829, 1159, 5420, 134]</td>\n",
       "    </tr>\n",
       "  </tbody>\n",
       "</table>\n",
       "</div>"
      ],
      "text/plain": [
       "             name                               labels\n",
       "0  21996A0127(02)  [5254, 1558, 2718, 336, 3468, 1871]\n",
       "1  21996A0520(01)    [753, 5404, 3454, 888, 614, 4631]\n",
       "2  21996A0706(01)         [11, 1804, 5765, 3461, 2602]\n",
       "3  21996A0706(02)         [11, 1633, 5765, 3461, 2602]\n",
       "4  21996A0716(01)         [216, 4829, 1159, 5420, 134]"
      ]
     },
     "execution_count": 2,
     "metadata": {},
     "output_type": "execute_result"
    }
   ],
   "source": [
    "# wczytanie labeli jako df\n",
    "labels_path = 'JRC/jrc-acquis-eurovoc-descriptors.txt'\n",
    "\n",
    "labels_df = pd.read_csv(labels_path, sep='\\t\\t',engine='python', header=None)\n",
    "labels_df.rename(columns={0: 'name', 1: 'labels'}, inplace=True)\n",
    "labels_df['labels'] = labels_df['labels'].apply(lambda string: list(map(int, string.split())))\n",
    "labels_df.head()"
   ]
  },
  {
   "cell_type": "code",
   "execution_count": 3,
   "metadata": {},
   "outputs": [
    {
     "data": {
      "text/html": [
       "<div>\n",
       "<style scoped>\n",
       "    .dataframe tbody tr th:only-of-type {\n",
       "        vertical-align: middle;\n",
       "    }\n",
       "\n",
       "    .dataframe tbody tr th {\n",
       "        vertical-align: top;\n",
       "    }\n",
       "\n",
       "    .dataframe thead th {\n",
       "        text-align: right;\n",
       "    }\n",
       "</style>\n",
       "<table border=\"1\" class=\"dataframe\">\n",
       "  <thead>\n",
       "    <tr style=\"text-align: right;\">\n",
       "      <th></th>\n",
       "      <th>name</th>\n",
       "      <th>text</th>\n",
       "    </tr>\n",
       "  </thead>\n",
       "  <tbody>\n",
       "    <tr>\n",
       "      <th>0</th>\n",
       "      <td>31988D0124</td>\n",
       "      <td>Decyzja Komisji z dnia 21 stycznia 1988 r. ust...</td>\n",
       "    </tr>\n",
       "    <tr>\n",
       "      <th>1</th>\n",
       "      <td>31988L0301</td>\n",
       "      <td>Dyrektywa Komisji z dnia 16 maja 1988 r. w spr...</td>\n",
       "    </tr>\n",
       "    <tr>\n",
       "      <th>2</th>\n",
       "      <td>31988D0381</td>\n",
       "      <td>Decyzja Rady z dnia 24 czerwca 1988 r. dotyczą...</td>\n",
       "    </tr>\n",
       "    <tr>\n",
       "      <th>3</th>\n",
       "      <td>31988L0409</td>\n",
       "      <td>Dyrektywa Rady z dnia 15 czerwca 1988 r. ustan...</td>\n",
       "    </tr>\n",
       "    <tr>\n",
       "      <th>4</th>\n",
       "      <td>31988R0442</td>\n",
       "      <td>Rozporządzenie Komisji (EWG) NR 442/88 z dnia ...</td>\n",
       "    </tr>\n",
       "  </tbody>\n",
       "</table>\n",
       "</div>"
      ],
      "text/plain": [
       "         name                                               text\n",
       "0  31988D0124  Decyzja Komisji z dnia 21 stycznia 1988 r. ust...\n",
       "1  31988L0301  Dyrektywa Komisji z dnia 16 maja 1988 r. w spr...\n",
       "2  31988D0381  Decyzja Rady z dnia 24 czerwca 1988 r. dotyczą...\n",
       "3  31988L0409  Dyrektywa Rady z dnia 15 czerwca 1988 r. ustan...\n",
       "4  31988R0442  Rozporządzenie Komisji (EWG) NR 442/88 z dnia ..."
      ]
     },
     "execution_count": 3,
     "metadata": {},
     "output_type": "execute_result"
    }
   ],
   "source": [
    "# wczytanie dokumentów\n",
    "data_folder = 'JRC'\n",
    "text_dict = {}\n",
    "\n",
    "for year in os.listdir(data_folder):\n",
    "    year_path = os.path.join(data_folder,year)\n",
    "    if os.path.isdir(year_path):\n",
    "        for file_name in os.listdir(year_path):\n",
    "            file_path = os.path.join(year_path, file_name)\n",
    "            tree = ET.parse(file_path)\n",
    "            root = tree.getroot()\n",
    "\n",
    "            text = ''\n",
    "            for elem in root.iter('p'):\n",
    "                text += elem.text + ' '\n",
    "            \n",
    "            if len(text) < 100_000:\n",
    "                text_dict[root.attrib['n']] = text\n",
    "\n",
    "text_df = pd.DataFrame.from_dict(text_dict, orient='index')\n",
    "text_df.reset_index(inplace=True)\n",
    "text_df.rename(columns={'index': 'name', 0: 'text'}, inplace=True)\n",
    "text_df.head()"
   ]
  },
  {
   "cell_type": "code",
   "execution_count": 4,
   "metadata": {},
   "outputs": [
    {
     "data": {
      "text/html": [
       "<div>\n",
       "<style scoped>\n",
       "    .dataframe tbody tr th:only-of-type {\n",
       "        vertical-align: middle;\n",
       "    }\n",
       "\n",
       "    .dataframe tbody tr th {\n",
       "        vertical-align: top;\n",
       "    }\n",
       "\n",
       "    .dataframe thead th {\n",
       "        text-align: right;\n",
       "    }\n",
       "</style>\n",
       "<table border=\"1\" class=\"dataframe\">\n",
       "  <thead>\n",
       "    <tr style=\"text-align: right;\">\n",
       "      <th></th>\n",
       "      <th>name</th>\n",
       "      <th>text</th>\n",
       "      <th>labels</th>\n",
       "    </tr>\n",
       "  </thead>\n",
       "  <tbody>\n",
       "    <tr>\n",
       "      <th>0</th>\n",
       "      <td>51994EC1868</td>\n",
       "      <td>[pic] | KOMISJA WSPÓLNOT EUROPEJSKICH | Brukse...</td>\n",
       "      <td>[2548, 5096, 2194, 1654, 5498, 2681, 2974]</td>\n",
       "    </tr>\n",
       "    <tr>\n",
       "      <th>1</th>\n",
       "      <td>31995L0013</td>\n",
       "      <td>Dyrektywa Komisji 95/13/WE z dnia 23 maja 1995...</td>\n",
       "      <td>[893, 1425, 3861, 5235, 3648, 142]</td>\n",
       "    </tr>\n",
       "    <tr>\n",
       "      <th>2</th>\n",
       "      <td>31995R3069</td>\n",
       "      <td>Rozporządzenie Rady (WE) nr 3069/95 z dnia 21 ...</td>\n",
       "      <td>[5229, 4829, 2891, 133, 2026, 4790]</td>\n",
       "    </tr>\n",
       "    <tr>\n",
       "      <th>3</th>\n",
       "      <td>31995R2694</td>\n",
       "      <td>Rozporządzenie Komisji (WE) nr 2694/95 z dnia ...</td>\n",
       "      <td>[5751, 4381, 4170, 3156]</td>\n",
       "    </tr>\n",
       "    <tr>\n",
       "      <th>4</th>\n",
       "      <td>31995D0467</td>\n",
       "      <td>Decyzja Komisji z dnia 24 października 1995 r....</td>\n",
       "      <td>[3879, 1826, 3134, 179, 4036, 3645]</td>\n",
       "    </tr>\n",
       "  </tbody>\n",
       "</table>\n",
       "</div>"
      ],
      "text/plain": [
       "          name                                               text  \\\n",
       "0  51994EC1868  [pic] | KOMISJA WSPÓLNOT EUROPEJSKICH | Brukse...   \n",
       "1   31995L0013  Dyrektywa Komisji 95/13/WE z dnia 23 maja 1995...   \n",
       "2   31995R3069  Rozporządzenie Rady (WE) nr 3069/95 z dnia 21 ...   \n",
       "3   31995R2694  Rozporządzenie Komisji (WE) nr 2694/95 z dnia ...   \n",
       "4   31995D0467  Decyzja Komisji z dnia 24 października 1995 r....   \n",
       "\n",
       "                                       labels  \n",
       "0  [2548, 5096, 2194, 1654, 5498, 2681, 2974]  \n",
       "1          [893, 1425, 3861, 5235, 3648, 142]  \n",
       "2         [5229, 4829, 2891, 133, 2026, 4790]  \n",
       "3                    [5751, 4381, 4170, 3156]  \n",
       "4         [3879, 1826, 3134, 179, 4036, 3645]  "
      ]
     },
     "execution_count": 4,
     "metadata": {},
     "output_type": "execute_result"
    }
   ],
   "source": [
    "# połączenie \n",
    "final_df = pd.merge(text_df, labels_df, how='inner', on='name')\n",
    "final_df.head()"
   ]
  },
  {
   "cell_type": "code",
   "execution_count": 6,
   "metadata": {},
   "outputs": [],
   "source": [
    "test = text_processing.preprocess_text(final_df['text'], polish_letters=True, lowercase=True, special_characters=True, stopwords=True, lemmatization=True)"
   ]
  },
  {
   "cell_type": "code",
   "execution_count": 8,
   "metadata": {},
   "outputs": [
    {
     "data": {
      "text/html": [
       "<div>\n",
       "<style scoped>\n",
       "    .dataframe tbody tr th:only-of-type {\n",
       "        vertical-align: middle;\n",
       "    }\n",
       "\n",
       "    .dataframe tbody tr th {\n",
       "        vertical-align: top;\n",
       "    }\n",
       "\n",
       "    .dataframe thead th {\n",
       "        text-align: right;\n",
       "    }\n",
       "</style>\n",
       "<table border=\"1\" class=\"dataframe\">\n",
       "  <thead>\n",
       "    <tr style=\"text-align: right;\">\n",
       "      <th></th>\n",
       "      <th>name</th>\n",
       "      <th>text</th>\n",
       "      <th>labels</th>\n",
       "      <th>processed_text</th>\n",
       "    </tr>\n",
       "  </thead>\n",
       "  <tbody>\n",
       "    <tr>\n",
       "      <th>0</th>\n",
       "      <td>51994EC1868</td>\n",
       "      <td>[pic] | KOMISJA WSPÓLNOT EUROPEJSKICH | Brukse...</td>\n",
       "      <td>[2548, 5096, 2194, 1654, 5498, 2681, 2974]</td>\n",
       "      <td>pica komisja wspolnot europejski bruksela kom ...</td>\n",
       "    </tr>\n",
       "    <tr>\n",
       "      <th>1</th>\n",
       "      <td>31995L0013</td>\n",
       "      <td>Dyrektywa Komisji 95/13/WE z dnia 23 maja 1995...</td>\n",
       "      <td>[893, 1425, 3861, 5235, 3648, 142]</td>\n",
       "      <td>dyrektywa komisja dzień maj r wykonujaca dyrek...</td>\n",
       "    </tr>\n",
       "    <tr>\n",
       "      <th>2</th>\n",
       "      <td>31995R3069</td>\n",
       "      <td>Rozporządzenie Rady (WE) nr 3069/95 z dnia 21 ...</td>\n",
       "      <td>[5229, 4829, 2891, 133, 2026, 4790]</td>\n",
       "      <td>rozporzadzenie rada nr dzień grudzień r ustana...</td>\n",
       "    </tr>\n",
       "    <tr>\n",
       "      <th>3</th>\n",
       "      <td>31995R2694</td>\n",
       "      <td>Rozporządzenie Komisji (WE) nr 2694/95 z dnia ...</td>\n",
       "      <td>[5751, 4381, 4170, 3156]</td>\n",
       "      <td>rozporzadzenie komisja nr dzień listopad r dot...</td>\n",
       "    </tr>\n",
       "    <tr>\n",
       "      <th>4</th>\n",
       "      <td>31995D0467</td>\n",
       "      <td>Decyzja Komisji z dnia 24 października 1995 r....</td>\n",
       "      <td>[3879, 1826, 3134, 179, 4036, 3645]</td>\n",
       "      <td>decyzja komisja dzień pazdziernika r wykonujac...</td>\n",
       "    </tr>\n",
       "  </tbody>\n",
       "</table>\n",
       "</div>"
      ],
      "text/plain": [
       "          name                                               text  \\\n",
       "0  51994EC1868  [pic] | KOMISJA WSPÓLNOT EUROPEJSKICH | Brukse...   \n",
       "1   31995L0013  Dyrektywa Komisji 95/13/WE z dnia 23 maja 1995...   \n",
       "2   31995R3069  Rozporządzenie Rady (WE) nr 3069/95 z dnia 21 ...   \n",
       "3   31995R2694  Rozporządzenie Komisji (WE) nr 2694/95 z dnia ...   \n",
       "4   31995D0467  Decyzja Komisji z dnia 24 października 1995 r....   \n",
       "\n",
       "                                       labels  \\\n",
       "0  [2548, 5096, 2194, 1654, 5498, 2681, 2974]   \n",
       "1          [893, 1425, 3861, 5235, 3648, 142]   \n",
       "2         [5229, 4829, 2891, 133, 2026, 4790]   \n",
       "3                    [5751, 4381, 4170, 3156]   \n",
       "4         [3879, 1826, 3134, 179, 4036, 3645]   \n",
       "\n",
       "                                      processed_text  \n",
       "0  pica komisja wspolnot europejski bruksela kom ...  \n",
       "1  dyrektywa komisja dzień maj r wykonujaca dyrek...  \n",
       "2  rozporzadzenie rada nr dzień grudzień r ustana...  \n",
       "3  rozporzadzenie komisja nr dzień listopad r dot...  \n",
       "4  decyzja komisja dzień pazdziernika r wykonujac...  "
      ]
     },
     "execution_count": 8,
     "metadata": {},
     "output_type": "execute_result"
    }
   ],
   "source": [
    "final_df['processed_text'] = test\n",
    "final_df.to_csv('processed_data.csv', index=False)\n",
    "print(f\"Ostateczna wielkość zbioru danych to {len(final_df)}\")\n",
    "final_df.head()"
   ]
  },
  {
   "cell_type": "markdown",
   "metadata": {},
   "source": [
    "# Train/Test split"
   ]
  },
  {
   "cell_type": "code",
   "execution_count": 1,
   "metadata": {},
   "outputs": [],
   "source": [
    "import pandas as pd\n",
    "import numpy as np\n",
    "from sklearn.model_selection import train_test_split\n",
    "from utilities import read_data\n",
    "from dataset_preparation import prepare_dataset"
   ]
  },
  {
   "cell_type": "code",
   "execution_count": 2,
   "metadata": {},
   "outputs": [
    {
     "data": {
      "text/html": [
       "<div>\n",
       "<style scoped>\n",
       "    .dataframe tbody tr th:only-of-type {\n",
       "        vertical-align: middle;\n",
       "    }\n",
       "\n",
       "    .dataframe tbody tr th {\n",
       "        vertical-align: top;\n",
       "    }\n",
       "\n",
       "    .dataframe thead th {\n",
       "        text-align: right;\n",
       "    }\n",
       "</style>\n",
       "<table border=\"1\" class=\"dataframe\">\n",
       "  <thead>\n",
       "    <tr style=\"text-align: right;\">\n",
       "      <th></th>\n",
       "      <th>processed_text</th>\n",
       "      <th>labels</th>\n",
       "    </tr>\n",
       "  </thead>\n",
       "  <tbody>\n",
       "    <tr>\n",
       "      <th>0</th>\n",
       "      <td>pica komisja wspolnot europejski bruksela kom ...</td>\n",
       "      <td>[2548, 5096, 2194, 1654, 5498, 2681, 2974]</td>\n",
       "    </tr>\n",
       "    <tr>\n",
       "      <th>1</th>\n",
       "      <td>dyrektywa komisja dzień maj r wykonujaca dyrek...</td>\n",
       "      <td>[893, 1425, 3861, 5235, 3648, 142]</td>\n",
       "    </tr>\n",
       "    <tr>\n",
       "      <th>2</th>\n",
       "      <td>rozporzadzenie rada nr dzień grudzień r ustana...</td>\n",
       "      <td>[5229, 4829, 2891, 133, 2026, 4790]</td>\n",
       "    </tr>\n",
       "    <tr>\n",
       "      <th>3</th>\n",
       "      <td>rozporzadzenie komisja nr dzień listopad r dot...</td>\n",
       "      <td>[5751, 4381, 4170, 3156]</td>\n",
       "    </tr>\n",
       "    <tr>\n",
       "      <th>4</th>\n",
       "      <td>decyzja komisja dzień pazdziernika r wykonujac...</td>\n",
       "      <td>[3879, 1826, 3134, 179, 4036, 3645]</td>\n",
       "    </tr>\n",
       "  </tbody>\n",
       "</table>\n",
       "</div>"
      ],
      "text/plain": [
       "                                      processed_text  \\\n",
       "0  pica komisja wspolnot europejski bruksela kom ...   \n",
       "1  dyrektywa komisja dzień maj r wykonujaca dyrek...   \n",
       "2  rozporzadzenie rada nr dzień grudzień r ustana...   \n",
       "3  rozporzadzenie komisja nr dzień listopad r dot...   \n",
       "4  decyzja komisja dzień pazdziernika r wykonujac...   \n",
       "\n",
       "                                       labels  \n",
       "0  [2548, 5096, 2194, 1654, 5498, 2681, 2974]  \n",
       "1          [893, 1425, 3861, 5235, 3648, 142]  \n",
       "2         [5229, 4829, 2891, 133, 2026, 4790]  \n",
       "3                    [5751, 4381, 4170, 3156]  \n",
       "4         [3879, 1826, 3134, 179, 4036, 3645]  "
      ]
     },
     "execution_count": 2,
     "metadata": {},
     "output_type": "execute_result"
    }
   ],
   "source": [
    "# most_common_full = ['1309', '3568', '4038', '20', '2771', '889', '616', '69', '183', '2300']\n",
    "\n",
    "labels_2 = [1309, 3568]\n",
    "labels_5 = [1309, 3568, 4038, 889, 616]\n",
    "labels_8 = [1309, 3568, 4038, 20, 2771, 889, 616, 183]\n",
    "\n",
    "file_path = 'processed_data.csv'\n",
    "df = read_data(file_path)\n",
    "df.head()"
   ]
  },
  {
   "cell_type": "code",
   "execution_count": 6,
   "metadata": {},
   "outputs": [
    {
     "name": "stdout",
     "output_type": "stream",
     "text": [
      "1309\n",
      "0.8657056145675266\n",
      "1309\n",
      "0.8447565414463293\n",
      "4038\n",
      "0.884811102544333\n"
     ]
    },
    {
     "data": {
      "text/html": [
       "<div>\n",
       "<style scoped>\n",
       "    .dataframe tbody tr th:only-of-type {\n",
       "        vertical-align: middle;\n",
       "    }\n",
       "\n",
       "    .dataframe tbody tr th {\n",
       "        vertical-align: top;\n",
       "    }\n",
       "\n",
       "    .dataframe thead th {\n",
       "        text-align: right;\n",
       "    }\n",
       "</style>\n",
       "<table border=\"1\" class=\"dataframe\">\n",
       "  <thead>\n",
       "    <tr style=\"text-align: right;\">\n",
       "      <th></th>\n",
       "      <th>processed_text</th>\n",
       "      <th>correct_labels</th>\n",
       "    </tr>\n",
       "  </thead>\n",
       "  <tbody>\n",
       "    <tr>\n",
       "      <th>5</th>\n",
       "      <td>rozporzadzenie komisja nr dzień pazdziernika r...</td>\n",
       "      <td>3568</td>\n",
       "    </tr>\n",
       "    <tr>\n",
       "      <th>6</th>\n",
       "      <td>decyzja komisja dzień czerwiec r zmieniajaca d...</td>\n",
       "      <td>1309</td>\n",
       "    </tr>\n",
       "    <tr>\n",
       "      <th>10</th>\n",
       "      <td>decyzja komisja dzień lipiec r ustanawiajaca s...</td>\n",
       "      <td>1309</td>\n",
       "    </tr>\n",
       "    <tr>\n",
       "      <th>11</th>\n",
       "      <td>decyzja przedstawiciel rzadow panstw czlonkows...</td>\n",
       "      <td>0</td>\n",
       "    </tr>\n",
       "    <tr>\n",
       "      <th>13</th>\n",
       "      <td>decyzja rada dzień czerwiec r sprawa warunkow ...</td>\n",
       "      <td>1309</td>\n",
       "    </tr>\n",
       "  </tbody>\n",
       "</table>\n",
       "</div>"
      ],
      "text/plain": [
       "                                       processed_text  correct_labels\n",
       "5   rozporzadzenie komisja nr dzień pazdziernika r...            3568\n",
       "6   decyzja komisja dzień czerwiec r zmieniajaca d...            1309\n",
       "10  decyzja komisja dzień lipiec r ustanawiajaca s...            1309\n",
       "11  decyzja przedstawiciel rzadow panstw czlonkows...               0\n",
       "13  decyzja rada dzień czerwiec r sprawa warunkow ...            1309"
      ]
     },
     "execution_count": 6,
     "metadata": {},
     "output_type": "execute_result"
    }
   ],
   "source": [
    "df_2 = prepare_dataset(df, set(labels_2), reduce_size=True)\n",
    "df_5 = prepare_dataset(df, set(labels_5))\n",
    "df_8 = prepare_dataset(df, set(labels_8))\n",
    "\n",
    "df_2.head()"
   ]
  },
  {
   "cell_type": "code",
   "execution_count": 7,
   "metadata": {},
   "outputs": [],
   "source": [
    "x_2_train, x_2_test, y_2_train, y_2_test = train_test_split(df_2['processed_text'], df_2['correct_labels'], test_size=0.2, random_state=1)\n",
    "x_5_train, x_5_test, y_5_train, y_5_test = train_test_split(df_5['processed_text'], df_5['correct_labels'], test_size=0.2, random_state=1)\n",
    "x_8_train, x_8_test, y_8_train, y_8_test = train_test_split(df_8['processed_text'], df_8['correct_labels'], test_size=0.2, random_state=1)"
   ]
  },
  {
   "cell_type": "code",
   "execution_count": 8,
   "metadata": {},
   "outputs": [
    {
     "data": {
      "text/html": [
       "<div>\n",
       "<style scoped>\n",
       "    .dataframe tbody tr th:only-of-type {\n",
       "        vertical-align: middle;\n",
       "    }\n",
       "\n",
       "    .dataframe tbody tr th {\n",
       "        vertical-align: top;\n",
       "    }\n",
       "\n",
       "    .dataframe thead th {\n",
       "        text-align: right;\n",
       "    }\n",
       "</style>\n",
       "<table border=\"1\" class=\"dataframe\">\n",
       "  <thead>\n",
       "    <tr style=\"text-align: right;\">\n",
       "      <th></th>\n",
       "      <th>Target Label</th>\n",
       "      <th>Train Count</th>\n",
       "      <th>Test Count</th>\n",
       "    </tr>\n",
       "  </thead>\n",
       "  <tbody>\n",
       "    <tr>\n",
       "      <th>1</th>\n",
       "      <td>0</td>\n",
       "      <td>1852</td>\n",
       "      <td>449</td>\n",
       "    </tr>\n",
       "    <tr>\n",
       "      <th>2</th>\n",
       "      <td>1309</td>\n",
       "      <td>1213</td>\n",
       "      <td>321</td>\n",
       "    </tr>\n",
       "    <tr>\n",
       "      <th>0</th>\n",
       "      <td>3568</td>\n",
       "      <td>1007</td>\n",
       "      <td>248</td>\n",
       "    </tr>\n",
       "  </tbody>\n",
       "</table>\n",
       "</div>"
      ],
      "text/plain": [
       "   Target Label  Train Count  Test Count\n",
       "1             0         1852         449\n",
       "2          1309         1213         321\n",
       "0          3568         1007         248"
      ]
     },
     "execution_count": 8,
     "metadata": {},
     "output_type": "execute_result"
    }
   ],
   "source": [
    "from collections import Counter\n",
    "trd = dict(Counter(y_2_train))\n",
    "tsd = dict(Counter(y_2_test))\n",
    "(pd.DataFrame([[key, trd[key], tsd[key]] for key in trd],\n",
    "             columns=['Target Label', 'Train Count', 'Test Count'])\n",
    ".sort_values(by=['Train Count', 'Test Count'],\n",
    "             ascending=False))"
   ]
  },
  {
   "cell_type": "markdown",
   "metadata": {},
   "source": [
    "# Feature extraction"
   ]
  },
  {
   "cell_type": "markdown",
   "metadata": {},
   "source": [
    " Jak się okazuje nie jest to konieczne, poniewaz robi się to grid searchem "
   ]
  },
  {
   "cell_type": "code",
   "execution_count": 93,
   "metadata": {},
   "outputs": [],
   "source": [
    "from sklearn.feature_extraction.text import TfidfVectorizer"
   ]
  },
  {
   "cell_type": "code",
   "execution_count": 20,
   "metadata": {},
   "outputs": [
    {
     "name": "stdout",
     "output_type": "stream",
     "text": [
      "Dla 2 klas dokumentów: \n",
      "    Rozmiar cech treningowych = (15938, 249421)\n",
      "    Rozmiar cech testowych = (3985, 116995)\n",
      "\n",
      "Dla 5 klas dokumentów: \n",
      "    Rozmiar cech treningowych = (15700, 238949)\n",
      "    Rozmiar cech testowych = (3926, 114275)\n",
      "\n",
      "Dla 8 klas dokumentów: \n",
      "    Rozmiar cech treningowych = (14680, 228202)\n",
      "    Rozmiar cech testowych = (3670, 119357)\n",
      "\n"
     ]
    }
   ],
   "source": [
    "tv = TfidfVectorizer(use_idf=True, min_df=0.0, max_df=1.0)\n",
    "\n",
    "tv_2_train_features = tv.fit_transform(x_2_train)\n",
    "tv_2_test_features = tv.fit_transform(x_2_test)\n",
    "print(f\"Dla 2 klas dokumentów: \\n\\\n",
    "    Rozmiar cech treningowych = {tv_2_train_features.shape}\\n\\\n",
    "    Rozmiar cech testowych = {tv_2_test_features.shape}\\n\")\n",
    "\n",
    "tv_5_train_features = tv.fit_transform(x_5_train)\n",
    "tv_5_test_features = tv.fit_transform(x_5_test)\n",
    "print(f\"Dla 5 klas dokumentów: \\n\\\n",
    "    Rozmiar cech treningowych = {tv_5_train_features.shape}\\n\\\n",
    "    Rozmiar cech testowych = {tv_5_test_features.shape}\\n\")\n",
    "\n",
    "tv_8_train_features = tv.fit_transform(x_8_train)\n",
    "tv_8_test_features = tv.fit_transform(x_8_test)\n",
    "print(f\"Dla 8 klas dokumentów: \\n\\\n",
    "    Rozmiar cech treningowych = {tv_8_train_features.shape}\\n\\\n",
    "    Rozmiar cech testowych = {tv_8_test_features.shape}\\n\")\n"
   ]
  },
  {
   "cell_type": "markdown",
   "metadata": {},
   "source": [
    "# Szkolenie modeli "
   ]
  },
  {
   "cell_type": "markdown",
   "metadata": {},
   "source": [
    "## Logistic Regression"
   ]
  },
  {
   "cell_type": "code",
   "execution_count": 11,
   "metadata": {},
   "outputs": [],
   "source": [
    "from sklearn.linear_model import LogisticRegression\n",
    "from sklearn.pipeline import Pipeline\n",
    "from sklearn.model_selection import GridSearchCV"
   ]
  },
  {
   "cell_type": "code",
   "execution_count": null,
   "metadata": {},
   "outputs": [],
   "source": [
    "lr_pipeline = Pipeline([('tfidf', TfidfVectorizer()),\n",
    "                        ('lr', LogisticRegression(penalty='l2', max_iter=100, random_state=42))])\n",
    "\n",
    "param_grid = {'tfidf__ngram_range': [(1, 1), (1, 2)],\n",
    "              'lr__C': [1, 5, 10]\n",
    "}\n",
    "\n",
    "gs_lr = GridSearchCV(lr_pipeline, param_grid, cv=5, verbose=2)\n",
    "gs_lr = gs_lr.fit(x_2_train, y_2_train)"
   ]
  },
  {
   "cell_type": "code",
   "execution_count": 25,
   "metadata": {},
   "outputs": [
    {
     "data": {
      "text/plain": [
       "Pipeline(steps=[('tfidf', TfidfVectorizer(ngram_range=(1, 2))),\n",
       "                ('lr', LogisticRegression(C=10, random_state=42))])"
      ]
     },
     "execution_count": 25,
     "metadata": {},
     "output_type": "execute_result"
    }
   ],
   "source": [
    "gs_lr.best_estimator_"
   ]
  },
  {
   "cell_type": "code",
   "execution_count": 27,
   "metadata": {},
   "outputs": [
    {
     "name": "stdout",
     "output_type": "stream",
     "text": [
      "Test Accuracy : 0.9545796737766625\n"
     ]
    }
   ],
   "source": [
    "best_lr_test_score = gs_lr.score(x_2_test, y_2_test)\n",
    "print('Test Accuracy :', best_lr_test_score)"
   ]
  },
  {
   "cell_type": "code",
   "execution_count": 39,
   "metadata": {},
   "outputs": [
    {
     "name": "stdout",
     "output_type": "stream",
     "text": [
      "Accuracy: 0.9546\n",
      "Precision: 0.9527\n",
      "Recall: 0.9546\n",
      "F1 Score: 0.9531\n"
     ]
    }
   ],
   "source": [
    "import book as meu\n",
    "mnb_predictions = gs_lr.predict(x_2_test)\n",
    "unique_classes = list(set(y_2_test))\n",
    "meu.get_metrics(true_labels=y_2_test, predicted_labels=mnb_predictions)"
   ]
  },
  {
   "cell_type": "code",
   "execution_count": 31,
   "metadata": {},
   "outputs": [
    {
     "name": "stdout",
     "output_type": "stream",
     "text": [
      "              precision    recall  f1-score   support\n",
      "\n",
      "           0       0.97      0.98      0.97      3422\n",
      "        3568       0.96      0.92      0.94       228\n",
      "        1309       0.82      0.70      0.75       335\n",
      "\n",
      "    accuracy                           0.95      3985\n",
      "   macro avg       0.91      0.87      0.89      3985\n",
      "weighted avg       0.95      0.95      0.95      3985\n",
      "\n"
     ]
    }
   ],
   "source": [
    "meu.display_classification_report(true_labels=y_2_test, predicted_labels=mnb_predictions, classes=unique_classes)"
   ]
  },
  {
   "cell_type": "code",
   "execution_count": 43,
   "metadata": {},
   "outputs": [
    {
     "data": {
      "text/html": [
       "<div>\n",
       "<style scoped>\n",
       "    .dataframe tbody tr th:only-of-type {\n",
       "        vertical-align: middle;\n",
       "    }\n",
       "\n",
       "    .dataframe tbody tr th {\n",
       "        vertical-align: top;\n",
       "    }\n",
       "\n",
       "    .dataframe thead tr th {\n",
       "        text-align: left;\n",
       "    }\n",
       "</style>\n",
       "<table border=\"1\" class=\"dataframe\">\n",
       "  <thead>\n",
       "    <tr>\n",
       "      <th></th>\n",
       "      <th></th>\n",
       "      <th colspan=\"3\" halign=\"left\">Predicted:</th>\n",
       "    </tr>\n",
       "    <tr>\n",
       "      <th></th>\n",
       "      <th></th>\n",
       "      <th>0</th>\n",
       "      <th>3568</th>\n",
       "      <th>1309</th>\n",
       "    </tr>\n",
       "  </thead>\n",
       "  <tbody>\n",
       "    <tr>\n",
       "      <th rowspan=\"3\" valign=\"top\">Actual:</th>\n",
       "      <th>0</th>\n",
       "      <td>3361</td>\n",
       "      <td>9</td>\n",
       "      <td>52</td>\n",
       "    </tr>\n",
       "    <tr>\n",
       "      <th>3568</th>\n",
       "      <td>18</td>\n",
       "      <td>210</td>\n",
       "      <td>0</td>\n",
       "    </tr>\n",
       "    <tr>\n",
       "      <th>1309</th>\n",
       "      <td>102</td>\n",
       "      <td>0</td>\n",
       "      <td>233</td>\n",
       "    </tr>\n",
       "  </tbody>\n",
       "</table>\n",
       "</div>"
      ],
      "text/plain": [
       "             Predicted:          \n",
       "                   0    3568 1309\n",
       "Actual: 0          3361    9   52\n",
       "        3568         18  210    0\n",
       "        1309        102    0  233"
      ]
     },
     "execution_count": 43,
     "metadata": {},
     "output_type": "execute_result"
    }
   ],
   "source": [
    "meu.display_confusion_matrix_pretty(true_labels=y_2_test, predicted_labels=mnb_predictions, classes=unique_classes)"
   ]
  },
  {
   "cell_type": "markdown",
   "metadata": {},
   "source": [
    "## Logistic Regression v2"
   ]
  },
  {
   "cell_type": "markdown",
   "metadata": {},
   "source": [
    "### 2 Classes"
   ]
  },
  {
   "cell_type": "code",
   "execution_count": null,
   "metadata": {},
   "outputs": [],
   "source": [
    "lr_pipeline_t = Pipeline([('tfidf', TfidfVectorizer()),\n",
    "                        ('lr', LogisticRegression(penalty='l2', max_iter=100, random_state=42))])\n",
    "\n",
    "param_grid_t = {'tfidf__ngram_range': [(1, 1), (1, 2)],\n",
    "              'lr__C': [1, 5, 10]\n",
    "}\n",
    "\n",
    "gs_lr_t = GridSearchCV(lr_pipeline_t, param_grid_t, cv=5, verbose=2)\n",
    "gs_lr_t = gs_lr.fit(xt_2_train, yt_2_train)"
   ]
  },
  {
   "cell_type": "code",
   "execution_count": 58,
   "metadata": {},
   "outputs": [
    {
     "data": {
      "text/plain": [
       "Pipeline(steps=[('tfidf', TfidfVectorizer(ngram_range=(1, 2))),\n",
       "                ('lr', LogisticRegression(C=5, random_state=42))])"
      ]
     },
     "execution_count": 58,
     "metadata": {},
     "output_type": "execute_result"
    }
   ],
   "source": [
    "gs_lr_t.best_estimator_"
   ]
  },
  {
   "cell_type": "code",
   "execution_count": 59,
   "metadata": {},
   "outputs": [
    {
     "name": "stdout",
     "output_type": "stream",
     "text": [
      "Test Accuracy : 0.9410609037328095\n"
     ]
    }
   ],
   "source": [
    "best_lr_test_score_t = gs_lr_t.score(xt_2_test, yt_2_test)\n",
    "print('Test Accuracy :', best_lr_test_score_t)"
   ]
  },
  {
   "cell_type": "code",
   "execution_count": 60,
   "metadata": {},
   "outputs": [
    {
     "name": "stdout",
     "output_type": "stream",
     "text": [
      "Accuracy: 0.9411\n",
      "Precision: 0.941\n",
      "Recall: 0.9411\n",
      "F1 Score: 0.941\n"
     ]
    }
   ],
   "source": [
    "import book as meu\n",
    "mnb_predictions_t = gs_lr_t.predict(xt_2_test)\n",
    "unique_classes_t = list(set(yt_2_test))\n",
    "meu.get_metrics(true_labels=yt_2_test, predicted_labels=mnb_predictions_t)"
   ]
  },
  {
   "cell_type": "code",
   "execution_count": 61,
   "metadata": {},
   "outputs": [
    {
     "name": "stdout",
     "output_type": "stream",
     "text": [
      "              precision    recall  f1-score   support\n",
      "\n",
      "           0       0.94      0.94      0.94       478\n",
      "        3568       0.97      0.98      0.98       222\n",
      "        1309       0.91      0.91      0.91       318\n",
      "\n",
      "    accuracy                           0.94      1018\n",
      "   macro avg       0.94      0.95      0.94      1018\n",
      "weighted avg       0.94      0.94      0.94      1018\n",
      "\n"
     ]
    }
   ],
   "source": [
    "meu.display_classification_report(true_labels=yt_2_test, predicted_labels=mnb_predictions_t, classes=unique_classes_t)"
   ]
  },
  {
   "cell_type": "code",
   "execution_count": 62,
   "metadata": {},
   "outputs": [
    {
     "data": {
      "text/html": [
       "<div>\n",
       "<style scoped>\n",
       "    .dataframe tbody tr th:only-of-type {\n",
       "        vertical-align: middle;\n",
       "    }\n",
       "\n",
       "    .dataframe tbody tr th {\n",
       "        vertical-align: top;\n",
       "    }\n",
       "\n",
       "    .dataframe thead tr th {\n",
       "        text-align: left;\n",
       "    }\n",
       "</style>\n",
       "<table border=\"1\" class=\"dataframe\">\n",
       "  <thead>\n",
       "    <tr>\n",
       "      <th></th>\n",
       "      <th></th>\n",
       "      <th colspan=\"3\" halign=\"left\">Predicted:</th>\n",
       "    </tr>\n",
       "    <tr>\n",
       "      <th></th>\n",
       "      <th></th>\n",
       "      <th>0</th>\n",
       "      <th>3568</th>\n",
       "      <th>1309</th>\n",
       "    </tr>\n",
       "  </thead>\n",
       "  <tbody>\n",
       "    <tr>\n",
       "      <th rowspan=\"3\" valign=\"top\">Actual:</th>\n",
       "      <th>0</th>\n",
       "      <td>450</td>\n",
       "      <td>2</td>\n",
       "      <td>26</td>\n",
       "    </tr>\n",
       "    <tr>\n",
       "      <th>3568</th>\n",
       "      <td>3</td>\n",
       "      <td>218</td>\n",
       "      <td>1</td>\n",
       "    </tr>\n",
       "    <tr>\n",
       "      <th>1309</th>\n",
       "      <td>24</td>\n",
       "      <td>4</td>\n",
       "      <td>290</td>\n",
       "    </tr>\n",
       "  </tbody>\n",
       "</table>\n",
       "</div>"
      ],
      "text/plain": [
       "             Predicted:          \n",
       "                   0    3568 1309\n",
       "Actual: 0           450    2   26\n",
       "        3568          3  218    1\n",
       "        1309         24    4  290"
      ]
     },
     "execution_count": 62,
     "metadata": {},
     "output_type": "execute_result"
    }
   ],
   "source": [
    "\n",
    "meu.display_confusion_matrix_pretty(true_labels=yt_2_test, predicted_labels=mnb_predictions_t, classes=unique_classes_t)"
   ]
  },
  {
   "cell_type": "markdown",
   "metadata": {},
   "source": [
    "### 5 classes"
   ]
  },
  {
   "cell_type": "code",
   "execution_count": null,
   "metadata": {},
   "outputs": [],
   "source": [
    "lr_pipeline_t = Pipeline([('tfidf', TfidfVectorizer()),\n",
    "                        ('lr', LogisticRegression(penalty='l2', max_iter=100, random_state=42))])\n",
    "\n",
    "param_grid_t = {'tfidf__ngram_range': [(1, 1), (1, 2)],\n",
    "              'lr__C': [1, 5, 10]\n",
    "}\n",
    "\n",
    "gs_lr_t = GridSearchCV(lr_pipeline_t, param_grid_t, cv=5, verbose=2)\n",
    "gs_lr_t = gs_lr_t.fit(x_5_train, y_5_train)"
   ]
  },
  {
   "cell_type": "code",
   "execution_count": 21,
   "metadata": {},
   "outputs": [
    {
     "data": {
      "text/plain": [
       "Pipeline(steps=[('tfidf', TfidfVectorizer(ngram_range=(1, 2))),\n",
       "                ('lr', LogisticRegression(C=10, random_state=42))])"
      ]
     },
     "execution_count": 21,
     "metadata": {},
     "output_type": "execute_result"
    }
   ],
   "source": [
    "gs_lr_t.best_estimator_"
   ]
  },
  {
   "cell_type": "code",
   "execution_count": 22,
   "metadata": {},
   "outputs": [
    {
     "name": "stdout",
     "output_type": "stream",
     "text": [
      "Test Accuracy : 0.8894952251023193\n"
     ]
    }
   ],
   "source": [
    "best_lr_test_score_t = gs_lr_t.score(x_5_test, y_5_test)\n",
    "print('Test Accuracy :', best_lr_test_score_t)"
   ]
  },
  {
   "cell_type": "code",
   "execution_count": 23,
   "metadata": {},
   "outputs": [
    {
     "name": "stdout",
     "output_type": "stream",
     "text": [
      "Accuracy: 0.8895\n",
      "Precision: 0.8913\n",
      "Recall: 0.8895\n",
      "F1 Score: 0.8888\n"
     ]
    }
   ],
   "source": [
    "import book as meu\n",
    "mnb_predictions_t = gs_lr_t.predict(x_5_test)\n",
    "unique_classes_t = list(set(y_5_test))\n",
    "meu.get_metrics(true_labels=y_5_test, predicted_labels=mnb_predictions_t)"
   ]
  },
  {
   "cell_type": "code",
   "execution_count": 24,
   "metadata": {},
   "outputs": [
    {
     "data": {
      "text/html": [
       "<div>\n",
       "<style scoped>\n",
       "    .dataframe tbody tr th:only-of-type {\n",
       "        vertical-align: middle;\n",
       "    }\n",
       "\n",
       "    .dataframe tbody tr th {\n",
       "        vertical-align: top;\n",
       "    }\n",
       "\n",
       "    .dataframe thead tr th {\n",
       "        text-align: left;\n",
       "    }\n",
       "</style>\n",
       "<table border=\"1\" class=\"dataframe\">\n",
       "  <thead>\n",
       "    <tr>\n",
       "      <th></th>\n",
       "      <th></th>\n",
       "      <th colspan=\"6\" halign=\"left\">Predicted:</th>\n",
       "    </tr>\n",
       "    <tr>\n",
       "      <th></th>\n",
       "      <th></th>\n",
       "      <th>0</th>\n",
       "      <th>4038</th>\n",
       "      <th>616</th>\n",
       "      <th>3568</th>\n",
       "      <th>889</th>\n",
       "      <th>1309</th>\n",
       "    </tr>\n",
       "  </thead>\n",
       "  <tbody>\n",
       "    <tr>\n",
       "      <th rowspan=\"6\" valign=\"top\">Actual:</th>\n",
       "      <th>0</th>\n",
       "      <td>390</td>\n",
       "      <td>9</td>\n",
       "      <td>15</td>\n",
       "      <td>5</td>\n",
       "      <td>1</td>\n",
       "      <td>24</td>\n",
       "    </tr>\n",
       "    <tr>\n",
       "      <th>4038</th>\n",
       "      <td>18</td>\n",
       "      <td>183</td>\n",
       "      <td>3</td>\n",
       "      <td>0</td>\n",
       "      <td>0</td>\n",
       "      <td>1</td>\n",
       "    </tr>\n",
       "    <tr>\n",
       "      <th>616</th>\n",
       "      <td>45</td>\n",
       "      <td>0</td>\n",
       "      <td>82</td>\n",
       "      <td>0</td>\n",
       "      <td>0</td>\n",
       "      <td>2</td>\n",
       "    </tr>\n",
       "    <tr>\n",
       "      <th>3568</th>\n",
       "      <td>4</td>\n",
       "      <td>0</td>\n",
       "      <td>0</td>\n",
       "      <td>254</td>\n",
       "      <td>0</td>\n",
       "      <td>1</td>\n",
       "    </tr>\n",
       "    <tr>\n",
       "      <th>889</th>\n",
       "      <td>6</td>\n",
       "      <td>1</td>\n",
       "      <td>0</td>\n",
       "      <td>0</td>\n",
       "      <td>124</td>\n",
       "      <td>0</td>\n",
       "    </tr>\n",
       "    <tr>\n",
       "      <th>1309</th>\n",
       "      <td>24</td>\n",
       "      <td>0</td>\n",
       "      <td>2</td>\n",
       "      <td>1</td>\n",
       "      <td>0</td>\n",
       "      <td>271</td>\n",
       "    </tr>\n",
       "  </tbody>\n",
       "</table>\n",
       "</div>"
      ],
      "text/plain": [
       "             Predicted:                         \n",
       "                   0    4038 616  3568 889  1309\n",
       "Actual: 0           390    9   15    5    1   24\n",
       "        4038         18  183    3    0    0    1\n",
       "        616          45    0   82    0    0    2\n",
       "        3568          4    0    0  254    0    1\n",
       "        889           6    1    0    0  124    0\n",
       "        1309         24    0    2    1    0  271"
      ]
     },
     "execution_count": 24,
     "metadata": {},
     "output_type": "execute_result"
    }
   ],
   "source": [
    "\n",
    "meu.display_confusion_matrix_pretty(true_labels=y_5_test, predicted_labels=mnb_predictions_t, classes=unique_classes_t)"
   ]
  },
  {
   "cell_type": "markdown",
   "metadata": {},
   "source": [
    "### 8 classes"
   ]
  },
  {
   "cell_type": "code",
   "execution_count": null,
   "metadata": {},
   "outputs": [],
   "source": [
    "lr_pipeline_t = Pipeline([('tfidf', TfidfVectorizer()),\n",
    "                        ('lr', LogisticRegression(penalty='l2', max_iter=100, random_state=42))])\n",
    "\n",
    "param_grid_t = {'tfidf__ngram_range': [(1, 1), (1, 2)],\n",
    "              'lr__C': [1, 5, 10]\n",
    "}\n",
    "\n",
    "gs_lr_t = GridSearchCV(lr_pipeline_t, param_grid_t, cv=5, verbose=2)\n",
    "gs_lr_t = gs_lr_t.fit(x_8_train, y_8_train)"
   ]
  },
  {
   "cell_type": "code",
   "execution_count": 27,
   "metadata": {},
   "outputs": [
    {
     "name": "stdout",
     "output_type": "stream",
     "text": [
      "Test Accuracy : 0.8647272727272727\n"
     ]
    }
   ],
   "source": [
    "best_lr_test_score_t = gs_lr_t.score(x_8_test, y_8_test)\n",
    "print('Test Accuracy :', best_lr_test_score_t)"
   ]
  },
  {
   "cell_type": "code",
   "execution_count": 28,
   "metadata": {},
   "outputs": [
    {
     "name": "stdout",
     "output_type": "stream",
     "text": [
      "Accuracy: 0.8647\n",
      "Precision: 0.8673\n",
      "Recall: 0.8647\n",
      "F1 Score: 0.8638\n"
     ]
    }
   ],
   "source": [
    "import book as meu\n",
    "mnb_predictions_t = gs_lr_t.predict(x_8_test)\n",
    "unique_classes_t = list(set(y_8_test))\n",
    "meu.get_metrics(true_labels=y_8_test, predicted_labels=mnb_predictions_t)"
   ]
  },
  {
   "cell_type": "code",
   "execution_count": 29,
   "metadata": {},
   "outputs": [
    {
     "data": {
      "text/html": [
       "<div>\n",
       "<style scoped>\n",
       "    .dataframe tbody tr th:only-of-type {\n",
       "        vertical-align: middle;\n",
       "    }\n",
       "\n",
       "    .dataframe tbody tr th {\n",
       "        vertical-align: top;\n",
       "    }\n",
       "\n",
       "    .dataframe thead tr th {\n",
       "        text-align: left;\n",
       "    }\n",
       "</style>\n",
       "<table border=\"1\" class=\"dataframe\">\n",
       "  <thead>\n",
       "    <tr>\n",
       "      <th></th>\n",
       "      <th></th>\n",
       "      <th colspan=\"9\" halign=\"left\">Predicted:</th>\n",
       "    </tr>\n",
       "    <tr>\n",
       "      <th></th>\n",
       "      <th></th>\n",
       "      <th>0</th>\n",
       "      <th>4038</th>\n",
       "      <th>616</th>\n",
       "      <th>3568</th>\n",
       "      <th>2771</th>\n",
       "      <th>20</th>\n",
       "      <th>183</th>\n",
       "      <th>889</th>\n",
       "      <th>1309</th>\n",
       "    </tr>\n",
       "  </thead>\n",
       "  <tbody>\n",
       "    <tr>\n",
       "      <th rowspan=\"9\" valign=\"top\">Actual:</th>\n",
       "      <th>0</th>\n",
       "      <td>261</td>\n",
       "      <td>11</td>\n",
       "      <td>14</td>\n",
       "      <td>2</td>\n",
       "      <td>10</td>\n",
       "      <td>0</td>\n",
       "      <td>1</td>\n",
       "      <td>0</td>\n",
       "      <td>13</td>\n",
       "    </tr>\n",
       "    <tr>\n",
       "      <th>4038</th>\n",
       "      <td>15</td>\n",
       "      <td>162</td>\n",
       "      <td>0</td>\n",
       "      <td>0</td>\n",
       "      <td>0</td>\n",
       "      <td>0</td>\n",
       "      <td>0</td>\n",
       "      <td>0</td>\n",
       "      <td>1</td>\n",
       "    </tr>\n",
       "    <tr>\n",
       "      <th>616</th>\n",
       "      <td>37</td>\n",
       "      <td>0</td>\n",
       "      <td>47</td>\n",
       "      <td>0</td>\n",
       "      <td>0</td>\n",
       "      <td>0</td>\n",
       "      <td>0</td>\n",
       "      <td>0</td>\n",
       "      <td>0</td>\n",
       "    </tr>\n",
       "    <tr>\n",
       "      <th>3568</th>\n",
       "      <td>5</td>\n",
       "      <td>0</td>\n",
       "      <td>0</td>\n",
       "      <td>158</td>\n",
       "      <td>0</td>\n",
       "      <td>1</td>\n",
       "      <td>0</td>\n",
       "      <td>0</td>\n",
       "      <td>0</td>\n",
       "    </tr>\n",
       "    <tr>\n",
       "      <th>2771</th>\n",
       "      <td>11</td>\n",
       "      <td>0</td>\n",
       "      <td>1</td>\n",
       "      <td>1</td>\n",
       "      <td>57</td>\n",
       "      <td>1</td>\n",
       "      <td>0</td>\n",
       "      <td>0</td>\n",
       "      <td>23</td>\n",
       "    </tr>\n",
       "    <tr>\n",
       "      <th>20</th>\n",
       "      <td>6</td>\n",
       "      <td>0</td>\n",
       "      <td>1</td>\n",
       "      <td>0</td>\n",
       "      <td>0</td>\n",
       "      <td>115</td>\n",
       "      <td>0</td>\n",
       "      <td>0</td>\n",
       "      <td>0</td>\n",
       "    </tr>\n",
       "    <tr>\n",
       "      <th>183</th>\n",
       "      <td>2</td>\n",
       "      <td>1</td>\n",
       "      <td>0</td>\n",
       "      <td>0</td>\n",
       "      <td>0</td>\n",
       "      <td>0</td>\n",
       "      <td>119</td>\n",
       "      <td>1</td>\n",
       "      <td>0</td>\n",
       "    </tr>\n",
       "    <tr>\n",
       "      <th>889</th>\n",
       "      <td>7</td>\n",
       "      <td>0</td>\n",
       "      <td>0</td>\n",
       "      <td>0</td>\n",
       "      <td>0</td>\n",
       "      <td>0</td>\n",
       "      <td>0</td>\n",
       "      <td>114</td>\n",
       "      <td>0</td>\n",
       "    </tr>\n",
       "    <tr>\n",
       "      <th>1309</th>\n",
       "      <td>9</td>\n",
       "      <td>0</td>\n",
       "      <td>1</td>\n",
       "      <td>0</td>\n",
       "      <td>10</td>\n",
       "      <td>1</td>\n",
       "      <td>0</td>\n",
       "      <td>0</td>\n",
       "      <td>156</td>\n",
       "    </tr>\n",
       "  </tbody>\n",
       "</table>\n",
       "</div>"
      ],
      "text/plain": [
       "             Predicted:                                        \n",
       "                   0    4038 616  3568 2771 20   183  889  1309\n",
       "Actual: 0           261   11   14    2   10    0    1    0   13\n",
       "        4038         15  162    0    0    0    0    0    0    1\n",
       "        616          37    0   47    0    0    0    0    0    0\n",
       "        3568          5    0    0  158    0    1    0    0    0\n",
       "        2771         11    0    1    1   57    1    0    0   23\n",
       "        20            6    0    1    0    0  115    0    0    0\n",
       "        183           2    1    0    0    0    0  119    1    0\n",
       "        889           7    0    0    0    0    0    0  114    0\n",
       "        1309          9    0    1    0   10    1    0    0  156"
      ]
     },
     "execution_count": 29,
     "metadata": {},
     "output_type": "execute_result"
    }
   ],
   "source": [
    "\n",
    "meu.display_confusion_matrix_pretty(true_labels=y_8_test, predicted_labels=mnb_predictions_t, classes=unique_classes_t)"
   ]
  },
  {
   "cell_type": "markdown",
   "metadata": {},
   "source": [
    "## SVM"
   ]
  },
  {
   "cell_type": "markdown",
   "metadata": {},
   "source": [
    "### 2 classes"
   ]
  },
  {
   "cell_type": "code",
   "execution_count": 33,
   "metadata": {},
   "outputs": [],
   "source": [
    "from sklearn.svm import LinearSVC"
   ]
  },
  {
   "cell_type": "code",
   "execution_count": null,
   "metadata": {},
   "outputs": [],
   "source": [
    "svm_pipeline = Pipeline([('tfidf', TfidfVectorizer()),\n",
    "                        ('svm', LinearSVC(random_state=42))])\n",
    "\n",
    "param_grid = {'tfidf__ngram_range': [(1, 1), (1, 2)],\n",
    "              'svm__C': [0.01, 0.1, 1, 5]\n",
    "}\n",
    "\n",
    "gs_svm = GridSearchCV(svm_pipeline, param_grid, cv=5, verbose=2)\n",
    "gs_svm = gs_svm.fit(xt_2_train, yt_2_train)"
   ]
  },
  {
   "cell_type": "code",
   "execution_count": 79,
   "metadata": {},
   "outputs": [
    {
     "data": {
      "text/plain": [
       "{'memory': None,\n",
       " 'steps': [('tfidf', TfidfVectorizer(ngram_range=(1, 2))),\n",
       "  ('svm', LinearSVC(C=5, random_state=42))],\n",
       " 'verbose': False,\n",
       " 'tfidf': TfidfVectorizer(ngram_range=(1, 2)),\n",
       " 'svm': LinearSVC(C=5, random_state=42),\n",
       " 'tfidf__analyzer': 'word',\n",
       " 'tfidf__binary': False,\n",
       " 'tfidf__decode_error': 'strict',\n",
       " 'tfidf__dtype': numpy.float64,\n",
       " 'tfidf__encoding': 'utf-8',\n",
       " 'tfidf__input': 'content',\n",
       " 'tfidf__lowercase': True,\n",
       " 'tfidf__max_df': 1.0,\n",
       " 'tfidf__max_features': None,\n",
       " 'tfidf__min_df': 1,\n",
       " 'tfidf__ngram_range': (1, 2),\n",
       " 'tfidf__norm': 'l2',\n",
       " 'tfidf__preprocessor': None,\n",
       " 'tfidf__smooth_idf': True,\n",
       " 'tfidf__stop_words': None,\n",
       " 'tfidf__strip_accents': None,\n",
       " 'tfidf__sublinear_tf': False,\n",
       " 'tfidf__token_pattern': '(?u)\\\\b\\\\w\\\\w+\\\\b',\n",
       " 'tfidf__tokenizer': None,\n",
       " 'tfidf__use_idf': True,\n",
       " 'tfidf__vocabulary': None,\n",
       " 'svm__C': 5,\n",
       " 'svm__class_weight': None,\n",
       " 'svm__dual': True,\n",
       " 'svm__fit_intercept': True,\n",
       " 'svm__intercept_scaling': 1,\n",
       " 'svm__loss': 'squared_hinge',\n",
       " 'svm__max_iter': 1000,\n",
       " 'svm__multi_class': 'ovr',\n",
       " 'svm__penalty': 'l2',\n",
       " 'svm__random_state': 42,\n",
       " 'svm__tol': 0.0001,\n",
       " 'svm__verbose': 0}"
      ]
     },
     "execution_count": 79,
     "metadata": {},
     "output_type": "execute_result"
    }
   ],
   "source": [
    "gs_svm.best_estimator_.get_params()"
   ]
  },
  {
   "cell_type": "code",
   "execution_count": 81,
   "metadata": {},
   "outputs": [
    {
     "name": "stdout",
     "output_type": "stream",
     "text": [
      "Test Accuracy : 0.9518664047151277\n"
     ]
    }
   ],
   "source": [
    "best_svm_test_score = gs_svm.score(xt_2_test, yt_2_test)\n",
    "print('Test Accuracy :', best_svm_test_score)"
   ]
  },
  {
   "cell_type": "code",
   "execution_count": 82,
   "metadata": {},
   "outputs": [
    {
     "name": "stdout",
     "output_type": "stream",
     "text": [
      "Accuracy: 0.9519\n",
      "Precision: 0.9518\n",
      "Recall: 0.9519\n",
      "F1 Score: 0.9518\n"
     ]
    }
   ],
   "source": [
    "import book as meu\n",
    "svm_predictions_t = gs_svm.predict(xt_2_test)\n",
    "unique_classes_t = list(set(yt_2_test))\n",
    "meu.get_metrics(true_labels=yt_2_test, predicted_labels=svm_predictions_t)"
   ]
  },
  {
   "cell_type": "code",
   "execution_count": 83,
   "metadata": {},
   "outputs": [
    {
     "name": "stdout",
     "output_type": "stream",
     "text": [
      "              precision    recall  f1-score   support\n",
      "\n",
      "        3568       0.98      0.99      0.99       258\n",
      "           0       0.94      0.95      0.95       458\n",
      "        1309       0.94      0.92      0.93       302\n",
      "\n",
      "    accuracy                           0.95      1018\n",
      "   macro avg       0.95      0.95      0.95      1018\n",
      "weighted avg       0.95      0.95      0.95      1018\n",
      "\n"
     ]
    }
   ],
   "source": [
    "meu.display_classification_report(true_labels=yt_2_test, predicted_labels=svm_predictions_t, classes=unique_classes_t)"
   ]
  },
  {
   "cell_type": "code",
   "execution_count": 84,
   "metadata": {},
   "outputs": [
    {
     "data": {
      "text/html": [
       "<div>\n",
       "<style scoped>\n",
       "    .dataframe tbody tr th:only-of-type {\n",
       "        vertical-align: middle;\n",
       "    }\n",
       "\n",
       "    .dataframe tbody tr th {\n",
       "        vertical-align: top;\n",
       "    }\n",
       "\n",
       "    .dataframe thead tr th {\n",
       "        text-align: left;\n",
       "    }\n",
       "</style>\n",
       "<table border=\"1\" class=\"dataframe\">\n",
       "  <thead>\n",
       "    <tr>\n",
       "      <th></th>\n",
       "      <th></th>\n",
       "      <th colspan=\"3\" halign=\"left\">Predicted:</th>\n",
       "    </tr>\n",
       "    <tr>\n",
       "      <th></th>\n",
       "      <th></th>\n",
       "      <th>3568</th>\n",
       "      <th>0</th>\n",
       "      <th>1309</th>\n",
       "    </tr>\n",
       "  </thead>\n",
       "  <tbody>\n",
       "    <tr>\n",
       "      <th rowspan=\"3\" valign=\"top\">Actual:</th>\n",
       "      <th>3568</th>\n",
       "      <td>255</td>\n",
       "      <td>3</td>\n",
       "      <td>0</td>\n",
       "    </tr>\n",
       "    <tr>\n",
       "      <th>0</th>\n",
       "      <td>3</td>\n",
       "      <td>436</td>\n",
       "      <td>19</td>\n",
       "    </tr>\n",
       "    <tr>\n",
       "      <th>1309</th>\n",
       "      <td>1</td>\n",
       "      <td>23</td>\n",
       "      <td>278</td>\n",
       "    </tr>\n",
       "  </tbody>\n",
       "</table>\n",
       "</div>"
      ],
      "text/plain": [
       "             Predicted:          \n",
       "                   3568 0    1309\n",
       "Actual: 3568        255    3    0\n",
       "        0             3  436   19\n",
       "        1309          1   23  278"
      ]
     },
     "execution_count": 84,
     "metadata": {},
     "output_type": "execute_result"
    }
   ],
   "source": [
    "\n",
    "meu.display_confusion_matrix_pretty(true_labels=yt_2_test, predicted_labels=svm_predictions_t, classes=unique_classes_t)"
   ]
  },
  {
   "cell_type": "markdown",
   "metadata": {},
   "source": [
    "### 5 classes"
   ]
  },
  {
   "cell_type": "code",
   "execution_count": 36,
   "metadata": {},
   "outputs": [],
   "source": [
    "from train_models import search_parameters"
   ]
  },
  {
   "cell_type": "code",
   "execution_count": null,
   "metadata": {},
   "outputs": [],
   "source": [
    "best_svm = search_parameters(model=LinearSVC(random_state=42),\n",
    "                                          model_params={'C': [0.01, 0.1, 1, 5]},\n",
    "                                          data=(x_5_train, y_5_train))"
   ]
  },
  {
   "cell_type": "code",
   "execution_count": 40,
   "metadata": {},
   "outputs": [
    {
     "data": {
      "text/plain": [
       "0.8915416098226466"
      ]
     },
     "execution_count": 40,
     "metadata": {},
     "output_type": "execute_result"
    }
   ],
   "source": [
    "best_svm.score(x_5_test, y_5_test)"
   ]
  },
  {
   "cell_type": "markdown",
   "metadata": {},
   "source": [
    "### 8 classes"
   ]
  },
  {
   "cell_type": "code",
   "execution_count": 42,
   "metadata": {},
   "outputs": [
    {
     "name": "stdout",
     "output_type": "stream",
     "text": [
      "Fitting 5 folds for each of 8 candidates, totalling 40 fits\n"
     ]
    }
   ],
   "source": [
    "best_svm = search_parameters(model=LinearSVC(random_state=42),\n",
    "                                          model_params={'C': [0.01, 0.1, 1, 5]},\n",
    "                                          data=(x_8_train, y_8_train),\n",
    "                                          verbose=1)"
   ]
  },
  {
   "cell_type": "code",
   "execution_count": 59,
   "metadata": {},
   "outputs": [
    {
     "data": {
      "text/plain": [
       "0.8785454545454545"
      ]
     },
     "execution_count": 59,
     "metadata": {},
     "output_type": "execute_result"
    }
   ],
   "source": [
    "best_svm.score(x_8_test, y_8_test)"
   ]
  },
  {
   "cell_type": "code",
   "execution_count": 68,
   "metadata": {},
   "outputs": [],
   "source": [
    "y_pred = best_svm.predict(x_8_test)"
   ]
  },
  {
   "cell_type": "code",
   "execution_count": 71,
   "metadata": {},
   "outputs": [
    {
     "name": "stdout",
     "output_type": "stream",
     "text": [
      "Metryki dla :\n",
      "        accuracy = 0.88\n",
      "        f1 = 0.88\n",
      "        precission = 0.88\n",
      "        recall = 0.88\n"
     ]
    }
   ],
   "source": [
    "import evaluate_models\n",
    "evaluate_models.calculate_metrics(y_8_test, y_pred)"
   ]
  },
  {
   "cell_type": "code",
   "execution_count": 87,
   "metadata": {},
   "outputs": [
    {
     "data": {
      "image/png": "[encoded data removed]",
      "text/plain": [
       "<Figure size 720x720 with 2 Axes>"
      ]
     },
     "metadata": {
      "needs_background": "light"
     },
     "output_type": "display_data"
    }
   ],
   "source": [
    "from sklearn.metrics import confusion_matrix, ConfusionMatrixDisplay\n",
    "import matplotlib.pyplot as plt\n",
    "m = confusion_matrix(y_8_test, y_pred, labels=best_svm.classes_)\n",
    "c = ConfusionMatrixDisplay.from_predictions(y_8_test, y_pred, labels=best_svm.classes_)\n",
    "c.figure_.set_size_inches(10, 10)\n",
    "plt.show()\n"
   ]
  },
  {
   "cell_type": "markdown",
   "metadata": {},
   "source": [
    "## Random Forest"
   ]
  },
  {
   "cell_type": "markdown",
   "metadata": {},
   "source": [
    "### 2 classes"
   ]
  },
  {
   "cell_type": "code",
   "execution_count": 88,
   "metadata": {},
   "outputs": [],
   "source": [
    "from sklearn.ensemble import RandomForestClassifier"
   ]
  },
  {
   "cell_type": "code",
   "execution_count": null,
   "metadata": {},
   "outputs": [],
   "source": [
    "svm_pipeline = Pipeline([('tfidf', TfidfVectorizer()),\n",
    "                        ('svm', RandomForestClassifier(random_state=42))])\n",
    "\n",
    "param_grid = {'tfidf__ngram_range': [(1, 1), (1, 2)],\n",
    "              'svm__n_estimators': [50, 75, 100, 125, 150]\n",
    "}\n",
    "\n",
    "gs_svm = GridSearchCV(svm_pipeline, param_grid, cv=5, verbose=2)\n",
    "gs_svm = gs_svm.fit(x_2_train, y_2_train)"
   ]
  },
  {
   "cell_type": "code",
   "execution_count": 15,
   "metadata": {},
   "outputs": [
    {
     "data": {
      "text/plain": [
       "{'memory': None,\n",
       " 'steps': [('tfidf', TfidfVectorizer()),\n",
       "  ('svm', RandomForestClassifier(random_state=42))],\n",
       " 'verbose': False,\n",
       " 'tfidf': TfidfVectorizer(),\n",
       " 'svm': RandomForestClassifier(random_state=42),\n",
       " 'tfidf__analyzer': 'word',\n",
       " 'tfidf__binary': False,\n",
       " 'tfidf__decode_error': 'strict',\n",
       " 'tfidf__dtype': numpy.float64,\n",
       " 'tfidf__encoding': 'utf-8',\n",
       " 'tfidf__input': 'content',\n",
       " 'tfidf__lowercase': True,\n",
       " 'tfidf__max_df': 1.0,\n",
       " 'tfidf__max_features': None,\n",
       " 'tfidf__min_df': 1,\n",
       " 'tfidf__ngram_range': (1, 1),\n",
       " 'tfidf__norm': 'l2',\n",
       " 'tfidf__preprocessor': None,\n",
       " 'tfidf__smooth_idf': True,\n",
       " 'tfidf__stop_words': None,\n",
       " 'tfidf__strip_accents': None,\n",
       " 'tfidf__sublinear_tf': False,\n",
       " 'tfidf__token_pattern': '(?u)\\\\b\\\\w\\\\w+\\\\b',\n",
       " 'tfidf__tokenizer': None,\n",
       " 'tfidf__use_idf': True,\n",
       " 'tfidf__vocabulary': None,\n",
       " 'svm__bootstrap': True,\n",
       " 'svm__ccp_alpha': 0.0,\n",
       " 'svm__class_weight': None,\n",
       " 'svm__criterion': 'gini',\n",
       " 'svm__max_depth': None,\n",
       " 'svm__max_features': 'auto',\n",
       " 'svm__max_leaf_nodes': None,\n",
       " 'svm__max_samples': None,\n",
       " 'svm__min_impurity_decrease': 0.0,\n",
       " 'svm__min_samples_leaf': 1,\n",
       " 'svm__min_samples_split': 2,\n",
       " 'svm__min_weight_fraction_leaf': 0.0,\n",
       " 'svm__n_estimators': 100,\n",
       " 'svm__n_jobs': None,\n",
       " 'svm__oob_score': False,\n",
       " 'svm__random_state': 42,\n",
       " 'svm__verbose': 0,\n",
       " 'svm__warm_start': False}"
      ]
     },
     "execution_count": 15,
     "metadata": {},
     "output_type": "execute_result"
    }
   ],
   "source": [
    "gs_svm.best_estimator_.get_params()"
   ]
  },
  {
   "cell_type": "code",
   "execution_count": 16,
   "metadata": {},
   "outputs": [
    {
     "name": "stdout",
     "output_type": "stream",
     "text": [
      "Test Accuracy : 0.9263261296660118\n"
     ]
    }
   ],
   "source": [
    "best_svm_test_score = gs_svm.score(x_2_test, y_2_test)\n",
    "print('Test Accuracy :', best_svm_test_score)"
   ]
  },
  {
   "cell_type": "markdown",
   "metadata": {},
   "source": [
    "### 5 classes"
   ]
  },
  {
   "cell_type": "code",
   "execution_count": 89,
   "metadata": {},
   "outputs": [],
   "source": [
    "best_rf = search_parameters(model=RandomForestClassifier(random_state=42),\n",
    "                                          model_params={'n_estimators': [50, 75, 100, 125, 150]},\n",
    "                                          data=(x_5_train, y_5_train),\n",
    "                                          verbose=0)"
   ]
  },
  {
   "cell_type": "code",
   "execution_count": 90,
   "metadata": {},
   "outputs": [
    {
     "data": {
      "text/plain": [
       "0.8342428376534788"
      ]
     },
     "execution_count": 90,
     "metadata": {},
     "output_type": "execute_result"
    }
   ],
   "source": [
    "best_rf.score(x_5_test, y_5_test)"
   ]
  },
  {
   "cell_type": "markdown",
   "metadata": {},
   "source": [
    "### 8 classes"
   ]
  },
  {
   "cell_type": "code",
   "execution_count": 91,
   "metadata": {},
   "outputs": [],
   "source": [
    "best_rf = search_parameters(model=RandomForestClassifier(random_state=42),\n",
    "                                          model_params={'n_estimators': [50, 75, 100, 125, 150]},\n",
    "                                          data=(x_8_train, y_8_train),\n",
    "                                          verbose=0)"
   ]
  },
  {
   "cell_type": "code",
   "execution_count": 92,
   "metadata": {},
   "outputs": [
    {
     "data": {
      "text/plain": [
       "0.8014545454545454"
      ]
     },
     "execution_count": 92,
     "metadata": {},
     "output_type": "execute_result"
    }
   ],
   "source": [
    "best_rf.score(x_8_test, y_8_test)"
   ]
  },
  {
   "cell_type": "markdown",
   "metadata": {},
   "source": [
    "# DO USUNIĘCIA \n"
   ]
  },
  {
   "cell_type": "markdown",
   "metadata": {},
   "source": [
    "## Po prostu ile jest dokumentów w top 10 klasach"
   ]
  },
  {
   "cell_type": "code",
   "execution_count": 54,
   "metadata": {},
   "outputs": [
    {
     "name": "stdout",
     "output_type": "stream",
     "text": [
      "{2: {'1309': 1534, '3568': 1255},\n",
      " 3: {'1309': 1519, '3568': 1254, '4038': 1159},\n",
      " 4: {'1309': 1436, '20': 556, '3568': 846, '4038': 1133},\n",
      " 5: {'1309': 909, '20': 549, '2771': 428, '3568': 845, '4038': 1130},\n",
      " 6: {'1309': 909,\n",
      "     '20': 549,\n",
      "     '2771': 427,\n",
      "     '3568': 836,\n",
      "     '4038': 1052,\n",
      "     '889': 758},\n",
      " 7: {'1309': 899,\n",
      "     '20': 549,\n",
      "     '2771': 427,\n",
      "     '3568': 827,\n",
      "     '4038': 1007,\n",
      "     '616': 655,\n",
      "     '889': 632},\n",
      " 8: {'1309': 898,\n",
      "     '20': 549,\n",
      "     '2771': 427,\n",
      "     '3568': 827,\n",
      "     '4038': 984,\n",
      "     '616': 443,\n",
      "     '69': 607,\n",
      "     '889': 631},\n",
      " 9: {'1309': 898,\n",
      "     '183': 9,\n",
      "     '20': 549,\n",
      "     '2771': 427,\n",
      "     '3568': 827,\n",
      "     '4038': 983,\n",
      "     '616': 443,\n",
      "     '69': 8,\n",
      "     '889': 631},\n",
      " 10: {'1309': 681,\n",
      "      '183': 9,\n",
      "      '20': 545,\n",
      "      '2300': 217,\n",
      "      '2771': 365,\n",
      "      '3568': 815,\n",
      "      '4038': 981,\n",
      "      '616': 429,\n",
      "      '69': 8,\n",
      "      '889': 631}}\n"
     ]
    }
   ],
   "source": [
    "# https://www.geeksforgeeks.org/python-convert-a-string-representation-of-list-into-list/\n",
    "# zeby zamienic ten durny string na liste\n",
    "\n",
    "import pprint\n",
    "import numpy as np\n",
    "\n",
    "new_df = df['labels'].copy()\n",
    "new_df.head()\n",
    "\n",
    "size_dct = {}\n",
    "most_common_full = ['1309', '3568', '4038', '20', '2771', '889', '616', '69', '183', '2300']\n",
    "\n",
    "for i in range (2, len(most_common_full)+1):\n",
    "    most_common_set = set(most_common_full[:i])\n",
    "\n",
    "    size_dct[i] = {}\n",
    "    for elem in most_common_set:\n",
    "        size_dct[i][elem] = 0\n",
    "    \n",
    "    for label in new_df:\n",
    "        correct_label = label.strip('][').split(', ')\n",
    "\n",
    "        intersection = most_common_set.intersection(correct_label)\n",
    "        intersection_lst = list(intersection)\n",
    "\n",
    "        if len(intersection_lst) >= 2:\n",
    "            # remove this document from the dataframe\n",
    "            pass\n",
    "        if len(intersection_lst) == 1:\n",
    "            size_dct[i][str(intersection_lst[0])] += 1\n",
    "        \n",
    "    \n",
    "pprint.pprint(size_dct)\n"
   ]
  },
  {
   "cell_type": "markdown",
   "metadata": {},
   "source": [
    "## Top 8 dokumentów z top 10"
   ]
  },
  {
   "cell_type": "code",
   "execution_count": 103,
   "metadata": {},
   "outputs": [],
   "source": [
    "# https://www.geeksforgeeks.org/python-convert-a-string-representation-of-list-into-list/\n",
    "# zeby zamienic ten durny string na liste\n",
    "\n",
    "import pprint\n",
    "import numpy as np\n",
    "\n",
    "new_df = df['labels'].copy()\n",
    "new_df.head()\n",
    "\n",
    "size_dct = {}\n",
    "most_common_full = ['1309', '3568', '4038', '20', '2771', '889', '616', '69', '183', '2300']\n",
    "\n",
    "for i in range (len(most_common_full)):\n",
    "    most_common_base = most_common_full[:]\n",
    "    string_base = most_common_base[i] + ' i '\n",
    "    del most_common_base[i]\n",
    "    for j in range (len(most_common_base)):\n",
    "        most_common_lst = most_common_base[:]\n",
    "        string = string_base + most_common_lst[j]\n",
    "        del most_common_lst[j]\n",
    "\n",
    "        most_common_set = set(most_common_lst)\n",
    "        \n",
    "        size_dct[string] = {}\n",
    "\n",
    "        for elem in most_common_set:\n",
    "            size_dct[string][elem] = 0\n",
    "    \n",
    "        for label in new_df:\n",
    "            correct_label = label.strip('][').split(', ')\n",
    "\n",
    "            intersection = most_common_set.intersection(correct_label)\n",
    "            intersection_lst = list(intersection)\n",
    "\n",
    "        #     if len(intersection_lst) >= 2:\n",
    "        #         # remove this document from the dataframe\n",
    "        #         pass\n",
    "            if len(intersection_lst) == 1:\n",
    "                size_dct[string][str(intersection_lst[0])] += 1\n",
    "        \n",
    "    \n",
    "# pprint.pprint(size_dct)\n"
   ]
  },
  {
   "cell_type": "code",
   "execution_count": 104,
   "metadata": {},
   "outputs": [
    {
     "name": "stdout",
     "output_type": "stream",
     "text": [
      "668.75 dla 1309 i 69 przy std 187.22\n",
      "668.75 dla 69 i 1309 przy std 187.22\n",
      "672.5 dla 69 i 2300 przy std 197.92\n",
      "672.5 dla 2300 i 69 przy std 197.92\n"
     ]
    }
   ],
   "source": [
    "sorted_8_dct = {}\n",
    "max_mean = 0\n",
    "\n",
    "for deleted, val_dct in size_dct.items():\n",
    "  sorted_8_dct[deleted] = min(val_dct.values())\n",
    "sorted_8_dct = {k: v for k, v in sorted(sorted_8_dct.items(), key=lambda item: item[1], reverse=True)}\n",
    "\n",
    "for key, value in sorted_8_dct.items():\n",
    "  if value < 400:\n",
    "    break\n",
    "  values_dct = size_dct[key]\n",
    "  values_lst = list(values_dct.values())\n",
    "  std = np.std(values_lst)\n",
    "  mean_ = np.mean(values_lst)\n",
    "  \n",
    "  if mean_ >= max_mean:\n",
    "    print(f\"{mean_} dla {key} przy std {std:.2f}\")\n",
    "    max_mean = mean_\n",
    "  # print(f\"Dla usuniętych wartości {key}:\\n\\\n",
    "  # Odchylenie standardowe wynosi {std:.2f}\\n\\\n",
    "  # Średnia wynosi {mean_}\\n\\n\")"
   ]
  },
  {
   "cell_type": "markdown",
   "metadata": {},
   "source": [
    "## Top 5 dokumentów z top 7"
   ]
  },
  {
   "cell_type": "code",
   "execution_count": null,
   "metadata": {},
   "outputs": [],
   "source": [
    "# https://www.geeksforgeeks.org/python-convert-a-string-representation-of-list-into-list/\n",
    "# zeby zamienic ten durny string na liste\n",
    "\n",
    "import pprint\n",
    "import numpy as np\n",
    "\n",
    "new_df = df['labels'].copy()\n",
    "new_df.head()\n",
    "\n",
    "size_dct = {}\n",
    "most_common_full = ['1309', '3568', '4038', '20', '2771', '889', '616']\n",
    "\n",
    "for i in range (len(most_common_full)):\n",
    "    most_common_base = most_common_full[:]\n",
    "    string_base = most_common_base[i] + ' i '\n",
    "    del most_common_base[i]\n",
    "    for j in range (len(most_common_base)):\n",
    "        most_common_lst = most_common_base[:]\n",
    "        string = string_base + most_common_lst[j]\n",
    "        del most_common_lst[j]\n",
    "\n",
    "        most_common_set = set(most_common_lst)\n",
    "        \n",
    "        size_dct[string] = {}\n",
    "\n",
    "        for elem in most_common_set:\n",
    "            size_dct[string][elem] = 0\n",
    "    \n",
    "        for label in new_df:\n",
    "            correct_label = label.strip('][').split(', ')\n",
    "\n",
    "            intersection = most_common_set.intersection(correct_label)\n",
    "            intersection_lst = list(intersection)\n",
    "\n",
    "        #     if len(intersection_lst) >= 2:\n",
    "        #         # remove this document from the dataframe\n",
    "        #         pass\n",
    "            if len(intersection_lst) == 1:\n",
    "                size_dct[string][str(intersection_lst[0])] += 1\n",
    "        \n",
    "    \n",
    "pprint.pprint(size_dct)"
   ]
  },
  {
   "cell_type": "code",
   "execution_count": 102,
   "metadata": {},
   "outputs": [
    {
     "name": "stdout",
     "output_type": "stream",
     "text": [
      "940.8 dla 3568 i 2771 przy std 284.86\n",
      "940.8 dla 2771 i 3568 przy std 284.86\n",
      "1013.0 dla 20 i 2771 przy std 336.44\n",
      "1013.0 dla 2771 i 20 przy std 336.44\n"
     ]
    }
   ],
   "source": [
    "sorted_5_dct = {}\n",
    "max_mean = 0\n",
    "\n",
    "for deleted, val_dct in size_dct.items():\n",
    "  sorted_5_dct[deleted] = min(val_dct.values())\n",
    "sorted_5_dct = {k: v for k, v in sorted(sorted_5_dct.items(), key=lambda item: item[1], reverse=True)}\n",
    "\n",
    "for key, value in sorted_5_dct.items():\n",
    "  if value < 600:\n",
    "    break\n",
    "  values_dct = size_dct[key]\n",
    "  values_lst = list(values_dct.values())\n",
    "  std = np.std(values_lst)\n",
    "  mean_ = np.mean(values_lst)\n",
    "  \n",
    "  if mean_ >= max_mean:\n",
    "    print(f\"{mean_} dla {key} przy std {std:.2f}\")\n",
    "    max_mean = mean_\n",
    "  # print(f\"Dla usuniętych wartości {key}:\\n\\\n",
    "  # Odchylenie standardowe wynosi {std:.2f}\\n\\\n",
    "  # Średnia wynosi {mean_}\\n\")"
   ]
  },
  {
   "cell_type": "markdown",
   "metadata": {},
   "source": [
    "## Konsultacje 20.12\n"
   ]
  },
  {
   "cell_type": "code",
   "execution_count": null,
   "metadata": {},
   "outputs": [],
   "source": [
    "df_2_big = prepare_dataset(df, set(labels_2), reduce_size=False)\n",
    "df_5_big = prepare_dataset(df, set(labels_5), reduce_size=False)\n",
    "df_8_big = prepare_dataset(df, set(labels_8), reduce_size=False)\n",
    "df_2_small = prepare_dataset(df, set(labels_2), reduce_size=True)\n",
    "df_5_small = prepare_dataset(df, set(labels_5), reduce_size=True)\n",
    "df_8_small = prepare_dataset(df, set(labels_8), reduce_size=True)\n"
   ]
  },
  {
   "cell_type": "code",
   "execution_count": 95,
   "metadata": {},
   "outputs": [],
   "source": [
    "\n",
    "x_2_big_train, x_2_big_test, y_2_big_train, y_2_big_test = train_test_split(df_2_big['processed_text'], df_2_big['correct_labels'], test_size=0.2, random_state=1)\n",
    "x_5_big_train, x_5_big_test, y_5_big_train, y_5_big_test = train_test_split(df_5_big['processed_text'], df_5_big['correct_labels'], test_size=0.2, random_state=1)\n",
    "x_8_big_train, x_8_big_test, y_8_big_train, y_8_big_test = train_test_split(df_8_big['processed_text'], df_8_big['correct_labels'], test_size=0.2, random_state=1)\n",
    "x_2_small_train, x_2_small_test, y_2_small_train, y_2_small_test = train_test_split(df_2_small['processed_text'], df_2_small['correct_labels'], test_size=0.2, random_state=1)\n",
    "x_5_small_train, x_5_small_test, y_5_small_train, y_5_small_test = train_test_split(df_5_small['processed_text'], df_5_small['correct_labels'], test_size=0.2, random_state=1)\n",
    "x_8_small_train, x_8_small_test, y_8_small_train, y_8_small_test = train_test_split(df_8_small['processed_text'], df_8_small['correct_labels'], test_size=0.2, random_state=1)"
   ]
  },
  {
   "cell_type": "code",
   "execution_count": 96,
   "metadata": {},
   "outputs": [
    {
     "name": "stdout",
     "output_type": "stream",
     "text": [
      "Not reduced dataset: \n",
      "   Target Label  Train Count  Test Count\n",
      "1             0        13712        3422\n",
      "2          1309         1199         335\n",
      "0          3568         1027         228\n",
      "\n",
      "Reduced dataset: \n",
      "   Target Label  Train Count  Test Count\n",
      "1             0         1829         472\n",
      "2          1309         1244         290\n",
      "0          3568          999         256\n"
     ]
    }
   ],
   "source": [
    "trd = dict(Counter(y_2_big_train))\n",
    "tsd = dict(Counter(y_2_big_test))\n",
    "big = pd.DataFrame([[key, trd[key], tsd[key]] for key in trd],\n",
    "             columns=['Target Label', 'Train Count', 'Test Count']).sort_values(by=['Train Count', 'Test Count'],\n",
    "             ascending=False)\n",
    "trd = dict(Counter(y_2_small_train))\n",
    "tsd = dict(Counter(y_2_small_test))\n",
    "small = pd.DataFrame([[key, trd[key], tsd[key]] for key in trd],\n",
    "             columns=['Target Label', 'Train Count', 'Test Count']).sort_values(by=['Train Count', 'Test Count'],\n",
    "             ascending=False)\n",
    "             \n",
    "print(f\"Not reduced dataset: \\n{big}\\n\\nReduced dataset: \\n{small}\")"
   ]
  }
 ],
 "metadata": {
  "interpreter": {
   "hash": "a9624780a9f1c0f10e870dcfba06f2736f6ef8714e80e730b1badeb52925ed9f"
  },
  "kernelspec": {
   "display_name": "Python 3.9.7 64-bit ('.Inz': conda)",
   "language": "python",
   "name": "python3"
  },
  "language_info": {
   "codemirror_mode": {
    "name": "ipython",
    "version": 3
   },
   "file_extension": ".py",
   "mimetype": "text/x-python",
   "name": "python",
   "nbconvert_exporter": "python",
   "pygments_lexer": "ipython3",
   "version": "3.9.7"
  },
  "orig_nbformat": 4
 },
 "nbformat": 4,
 "nbformat_minor": 2
}
